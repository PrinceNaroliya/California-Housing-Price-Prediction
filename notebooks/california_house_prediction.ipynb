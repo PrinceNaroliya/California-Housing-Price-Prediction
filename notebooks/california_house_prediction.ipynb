{
 "cells": [
  {
   "cell_type": "code",
   "execution_count": null,
   "id": "2a167c53",
   "metadata": {},
   "outputs": [],
   "source": [
    "import pandas as pd\n",
    "import warnings\n",
    "from sklearn.preprocessing import StandardScaler\n",
    "from sklearn.model_selection import train_test_split\n",
    "from sklearn.metrics import r2_score\n",
    "from xgboost import XGBRegressor\n",
    "\n",
    "warnings.filterwarnings('ignore')\n",
    "data = pd.read_csv(\"/kaggle/input/california-house-price-prediction/california_housing_test_1.csv\")\n",
    "df = pd.DataFrame(data)\n",
    "\n",
    "# Extra NaN column drop\n",
    "df.drop(['Unnamed: 9'], axis=1, inplace=True)\n",
    "\n",
    "# Fill missing values in categorical column with mode\n",
    "df['ocean_proximity'] = df['ocean_proximity'].fillna(df['ocean_proximity'].mode()[0])\n",
    "\n",
    "# One-hot encode\n",
    "df = pd.get_dummies(df, columns=['ocean_proximity'], drop_first=False)\n",
    "\n",
    "df = df.drop(['ocean_proximity_NEAR BAY'], axis = 1)\n",
    "\n",
    "X = df.drop(['median_house_value'], axis = 1)\n",
    "y = df['median_house_value']\n",
    "\n",
    "#Scaling\n",
    "scaler = StandardScaler()\n",
    "X_scaled = scaler.fit_transform(X)\n",
    "\n",
    "X_train,X_test,y_train,y_test = train_test_split(X_scaled,y, test_size = 0.3, random_state=42)\n",
    "\n",
    "xgb = XGBRegressor(\n",
    "    n_estimators=500,\n",
    "    max_depth=6,\n",
    "    learning_rate=0.05,\n",
    "    subsample=0.8,\n",
    "    colsample_bytree=0.8, \n",
    "    random_state=42\n",
    ")\n",
    "\n",
    "xgb.fit(X_train,y_train)\n",
    "\n",
    "y_pred = xgb.predict(X_test)\n",
    "\n",
    "print('XGB Score: ',round(r2_score(y_test, y_pred),2))"
   ]
  }
 ],
 "metadata": {
  "language_info": {
   "name": "python"
  }
 },
 "nbformat": 4,
 "nbformat_minor": 5
}
